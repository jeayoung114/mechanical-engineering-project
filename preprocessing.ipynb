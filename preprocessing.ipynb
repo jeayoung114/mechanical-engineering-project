{
 "cells": [
  {
   "cell_type": "code",
   "execution_count": 77,
   "metadata": {
    "collapsed": true
   },
   "outputs": [],
   "source": [
    "import os\n",
    "import numpy as np\n",
    "import pandas as pd"
   ]
  },
  {
   "cell_type": "code",
   "execution_count": 172,
   "metadata": {},
   "outputs": [
    {
     "name": "stdout",
     "output_type": "stream",
     "text": [
      "Left_Ankle_Torque.txt\n",
      "Left_Hip_Active.txt\n",
      "Left_Hip_Angle.txt\n",
      "Left_Hip_Angle_Ref.txt\n",
      "Left_Hip_DCLink.txt\n",
      "Left_Hip_Resistive.txt\n",
      "Left_Hip_RPM_Ref.txt\n",
      "Left_Hip_Torque.txt\n",
      "Left_Hip_Torque_Real.txt\n",
      "Left_Hip_Torque_Ref.txt\n",
      "Left_Index.txt\n",
      "Left_Knee_Active.txt\n",
      "Left_Knee_Angle.txt\n",
      "Left_Knee_Angle_Ref.txt\n",
      "Left_Knee_Resistive.txt\n",
      "Left_Knee_RPM_Ref.txt\n",
      "Left_Knee_Torque.txt\n",
      "Left_Knee_Torque_Real.txt\n",
      "Left_Knee_Torque_Ref.txt\n",
      "Left_LoadCell.txt\n"
     ]
    },
    {
     "data": {
      "text/plain": [
       "[0.37334978772200617,\n",
       " 1.2704006490186825,\n",
       " 1.1982037595730022,\n",
       " 5.6541242276860135,\n",
       " 7.714174982594559,\n",
       " 241.38443958971422,\n",
       " 7.226477403102543,\n",
       " 239.41649728108348,\n",
       " 7.238245532606173,\n",
       " 2.410586478585863,\n",
       " 0.4677697841726605,\n",
       " 3.142388607014591,\n",
       " -0.03387752871968643,\n",
       " 35.23361238473699,\n",
       " -5.9106644079074835,\n",
       " 224.43408472719725,\n",
       " -2.671222962380552,\n",
       " 84.68299655241306,\n",
       " -4.39718119349142,\n",
       " 130.79425826003623,\n",
       " 34.988164307263865,\n",
       " 431.579205472191,\n",
       " 0.11224089115804123,\n",
       " 0.1188073432246411,\n",
       " 22.039433743327848,\n",
       " 323.1158949682795,\n",
       " 22.271125037330187,\n",
       " 315.591877635726,\n",
       " 0.08281411000232056,\n",
       " 0.14524273290835715,\n",
       " 0.06484600431060959,\n",
       " 92.63470869082724,\n",
       " -4.644763007895178,\n",
       " 100.05901969899065,\n",
       " -0.31981279689875713,\n",
       " 23.40589906082626,\n",
       " -2.0031595029375304,\n",
       " 51.88276123554332]"
      ]
     },
     "execution_count": 172,
     "metadata": {},
     "output_type": "execute_result"
    }
   ],
   "source": [
    "os.chdir(\"C://Users//user//machine//워크봇운동데이터//워크봇운동데이터//전착한//2018년01월08일15시24분26초\")\n",
    "\n",
    "os.getcwd()\n",
    "\n",
    "data=pd.DataFrame()\n",
    "meanstd=[]\n",
    "for root, dirs, files in os.walk(\"C://Users//user//machine//워크봇운동데이터//워크봇운동데이터//전착한//2018년01월08일15시24분26초\"):\n",
    "\n",
    "    try :\n",
    "\n",
    "        \n",
    "        for file in files:\n",
    "            if file==False:\n",
    "                continue\n",
    "\n",
    "            print(file)\n",
    "            k=0\n",
    "            l=0\n",
    "            data1=pd.read_csv(file,header=None)\n",
    "\n",
    "\n",
    "\n",
    "\n",
    "            k=sum(data1[0])\n",
    "            l=sum(data1[0]**2)\n",
    "\n",
    "            mean=k/len(data1)\n",
    "            std=l/len(data1)-mean**2\n",
    "            meanstd.append(mean)\n",
    "            meanstd.append(std)\n",
    "\n",
    "    except :\n",
    "        continue\n",
    "\n",
    "\n",
    "meanstd"
   ]
  },
  {
   "cell_type": "code",
   "execution_count": 173,
   "metadata": {},
   "outputs": [
    {
     "data": {
      "text/plain": [
       "'C:\\\\Users\\\\user\\\\machine\\\\워크봇운동데이터'"
      ]
     },
     "execution_count": 173,
     "metadata": {},
     "output_type": "execute_result"
    }
   ],
   "source": [
    "os.chdir(\"C://Users//user//machine//워크봇운동데이터\")\n",
    "os.getcwd()"
   ]
  },
  {
   "cell_type": "code",
   "execution_count": 174,
   "metadata": {},
   "outputs": [],
   "source": [
    "from openpyxl import Workbook\n",
    "\n",
    "from openpyxl import load_workbook\n",
    "wb=load_workbook(\"C://Users//user//machine//워크봇운동데이터/traindata.xlsx\")\n",
    "ws=wb.active\n",
    "\n",
    "for col in range(1,31):\n",
    "    ws.cell(row=30, column=col, value =float( meanstd[col-1]))\n",
    "wb.save(\"C://Users//user//machine//워크봇운동데이터/traindata.xlsx\")"
   ]
  },
  {
   "cell_type": "code",
   "execution_count": null,
   "metadata": {
    "collapsed": true
   },
   "outputs": [],
   "source": []
  }
 ],
 "metadata": {
  "kernelspec": {
   "display_name": "Python [conda env:Anaconda3]",
   "language": "python",
   "name": "conda-env-Anaconda3-py"
  },
  "language_info": {
   "codemirror_mode": {
    "name": "ipython",
    "version": 3
   },
   "file_extension": ".py",
   "mimetype": "text/x-python",
   "name": "python",
   "nbconvert_exporter": "python",
   "pygments_lexer": "ipython3",
   "version": "3.6.3"
  }
 },
 "nbformat": 4,
 "nbformat_minor": 2
}

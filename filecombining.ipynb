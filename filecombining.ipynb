{
 "cells": [
  {
   "cell_type": "code",
   "execution_count": null,
   "metadata": {
    "collapsed": true
   },
   "outputs": [],
   "source": [
    "import os\n",
    "import numpy as np"
   ]
  },
  {
   "cell_type": "code",
   "execution_count": 2,
   "metadata": {},
   "outputs": [
    {
     "name": "stdout",
     "output_type": "stream",
     "text": [
      "C:/Users/user/machine/워크봇운동데이터/워크봇운동데이터/김창순/2018년02월01일09시46분55초\\Left_Ankle_Torque.txt\n",
      "19611\n",
      "C:/Users/user/machine/워크봇운동데이터/워크봇운동데이터/김창순/2018년02월01일09시46분55초\\Left_Hip_Active.txt\n",
      "19611\n",
      "C:/Users/user/machine/워크봇운동데이터/워크봇운동데이터/김창순/2018년02월01일09시46분55초\\Left_Hip_Angle.txt\n",
      "19611\n",
      "C:/Users/user/machine/워크봇운동데이터/워크봇운동데이터/김창순/2018년02월01일09시46분55초\\Left_Hip_DCLink.txt\n",
      "19611\n",
      "C:/Users/user/machine/워크봇운동데이터/워크봇운동데이터/김창순/2018년02월01일09시46분55초\\Left_Hip_Resistive.txt\n",
      "19611\n",
      "C:/Users/user/machine/워크봇운동데이터/워크봇운동데이터/김창순/2018년02월01일09시46분55초\\Left_Hip_Torque.txt\n",
      "19611\n",
      "C:/Users/user/machine/워크봇운동데이터/워크봇운동데이터/김창순/2018년02월01일09시46분55초\\Left_Hip_Torque_Real.txt\n",
      "19611\n",
      "C:/Users/user/machine/워크봇운동데이터/워크봇운동데이터/김창순/2018년02월01일09시46분55초\\Left_Hip_Torque_Ref.txt\n",
      "19611\n",
      "C:/Users/user/machine/워크봇운동데이터/워크봇운동데이터/김창순/2018년02월01일09시46분55초\\Left_Index.txt\n",
      "19611\n",
      "C:/Users/user/machine/워크봇운동데이터/워크봇운동데이터/김창순/2018년02월01일09시46분55초\\Left_Knee_Active.txt\n",
      "19611\n",
      "C:/Users/user/machine/워크봇운동데이터/워크봇운동데이터/김창순/2018년02월01일09시46분55초\\Left_Knee_Angle.txt\n",
      "19611\n",
      "C:/Users/user/machine/워크봇운동데이터/워크봇운동데이터/김창순/2018년02월01일09시46분55초\\Left_Knee_Resistive.txt\n",
      "19611\n",
      "C:/Users/user/machine/워크봇운동데이터/워크봇운동데이터/김창순/2018년02월01일09시46분55초\\Left_Knee_Torque.txt\n",
      "19611\n",
      "C:/Users/user/machine/워크봇운동데이터/워크봇운동데이터/김창순/2018년02월01일09시46분55초\\Left_Knee_Torque_Real.txt\n",
      "19611\n",
      "C:/Users/user/machine/워크봇운동데이터/워크봇운동데이터/김창순/2018년02월01일09시46분55초\\Left_Knee_Torque_Ref.txt\n",
      "19611\n",
      "C:/Users/user/machine/워크봇운동데이터/워크봇운동데이터/김창순/2018년02월01일09시46분55초\\Right_Ankle_Torque.txt\n",
      "19611\n",
      "C:/Users/user/machine/워크봇운동데이터/워크봇운동데이터/김창순/2018년02월01일09시46분55초\\Right_Hip_Active.txt\n",
      "19611\n",
      "C:/Users/user/machine/워크봇운동데이터/워크봇운동데이터/김창순/2018년02월01일09시46분55초\\Right_Hip_Angle.txt\n",
      "19611\n",
      "C:/Users/user/machine/워크봇운동데이터/워크봇운동데이터/김창순/2018년02월01일09시46분55초\\Right_Hip_DCLink.txt\n",
      "19611\n",
      "C:/Users/user/machine/워크봇운동데이터/워크봇운동데이터/김창순/2018년02월01일09시46분55초\\Right_Hip_Resistive.txt\n",
      "19611\n",
      "C:/Users/user/machine/워크봇운동데이터/워크봇운동데이터/김창순/2018년02월01일09시46분55초\\Right_Hip_Torque.txt\n",
      "19611\n",
      "C:/Users/user/machine/워크봇운동데이터/워크봇운동데이터/김창순/2018년02월01일09시46분55초\\Right_Hip_Torque_Real.txt\n",
      "19611\n",
      "C:/Users/user/machine/워크봇운동데이터/워크봇운동데이터/김창순/2018년02월01일09시46분55초\\Right_Hip_Torque_Ref.txt\n",
      "19611\n",
      "C:/Users/user/machine/워크봇운동데이터/워크봇운동데이터/김창순/2018년02월01일09시46분55초\\Right_Index.txt\n",
      "19611\n",
      "C:/Users/user/machine/워크봇운동데이터/워크봇운동데이터/김창순/2018년02월01일09시46분55초\\Right_KneeAngle.txt\n",
      "19611\n",
      "C:/Users/user/machine/워크봇운동데이터/워크봇운동데이터/김창순/2018년02월01일09시46분55초\\Right_Knee_Active.txt\n",
      "19611\n",
      "C:/Users/user/machine/워크봇운동데이터/워크봇운동데이터/김창순/2018년02월01일09시46분55초\\Right_Knee_Resistive.txt\n",
      "19611\n",
      "C:/Users/user/machine/워크봇운동데이터/워크봇운동데이터/김창순/2018년02월01일09시46분55초\\Right_Knee_Torque.txt\n",
      "19611\n",
      "C:/Users/user/machine/워크봇운동데이터/워크봇운동데이터/김창순/2018년02월01일09시46분55초\\Right_Knee_Torque_Real.txt\n",
      "19611\n",
      "C:/Users/user/machine/워크봇운동데이터/워크봇운동데이터/김창순/2018년02월01일09시46분55초\\Right_Knee_Torque_Ref.txt\n",
      "19611\n"
     ]
    }
   ],
   "source": [
    "real_result = [ ]\n",
    "\n",
    "text_name = [ ]\n",
    "\n",
    "for root, dirs, files in os.walk(\"C:/Users/user/machine/워크봇운동데이터/워크봇운동데이터/김창순/2018년02월01일09시46분55초\"):##디렉토리\n",
    "    for fname in files:\n",
    "        ii = 0\n",
    "        full_fname = os.path.join(root, fname)\n",
    "        j=0\n",
    "        f2 = open(full_fname, \"r\")\n",
    "        while True:\n",
    "            j=j+1\n",
    "            line=f2.readline()\n",
    "            if not line:\n",
    "                break\n",
    "        if j<100:\n",
    "            continue\n",
    "        print (full_fname)\n",
    "        text_name.append(fname)\n",
    "        f2.close()\n",
    "        f2 = open(full_fname, \"r\")\n",
    "        result = []\n",
    "       \n",
    "        while True:\n",
    "            ii = ii+1\n",
    "            line = f2.readline()\n",
    "            if not line: \n",
    "                break\n",
    "                \n",
    "            if ii >= 19611:\n",
    "                break    \n",
    "            \n",
    "            result.append(float(line))\n",
    "                \n",
    "        real_result.append(result)\n",
    "        f2.close()\n",
    "        print(ii)"
   ]
  },
  {
   "cell_type": "code",
   "execution_count": 3,
   "metadata": {
    "collapsed": true
   },
   "outputs": [],
   "source": [
    "n = np.array(real_result)"
   ]
  },
  {
   "cell_type": "code",
   "execution_count": 4,
   "metadata": {},
   "outputs": [
    {
     "name": "stdout",
     "output_type": "stream",
     "text": [
      "(30, 19610)\n"
     ]
    }
   ],
   "source": [
    "print(n.shape)"
   ]
  },
  {
   "cell_type": "code",
   "execution_count": 5,
   "metadata": {
    "collapsed": true
   },
   "outputs": [],
   "source": [
    "nt = n.T\n",
    "    "
   ]
  },
  {
   "cell_type": "code",
   "execution_count": 6,
   "metadata": {},
   "outputs": [],
   "source": [
    "np.savetxt(\"C:/Users/user/machine/워크봇운동데이터/워크봇운동데이터/김창순/2018년02월01일09시46분55초/sum1.csv\", nt, delimiter=\",\")##파일 위치와 저장파일명"
   ]
  },
  {
   "cell_type": "code",
   "execution_count": 7,
   "metadata": {},
   "outputs": [
    {
     "data": {
      "text/plain": [
       "['Left_Ankle_Torque.txt',\n",
       " 'Left_Hip_Active.txt',\n",
       " 'Left_Hip_Angle.txt',\n",
       " 'Left_Hip_DCLink.txt',\n",
       " 'Left_Hip_Resistive.txt',\n",
       " 'Left_Hip_Torque.txt',\n",
       " 'Left_Hip_Torque_Real.txt',\n",
       " 'Left_Hip_Torque_Ref.txt',\n",
       " 'Left_Index.txt',\n",
       " 'Left_Knee_Active.txt',\n",
       " 'Left_Knee_Angle.txt',\n",
       " 'Left_Knee_Resistive.txt',\n",
       " 'Left_Knee_Torque.txt',\n",
       " 'Left_Knee_Torque_Real.txt',\n",
       " 'Left_Knee_Torque_Ref.txt',\n",
       " 'Right_Ankle_Torque.txt',\n",
       " 'Right_Hip_Active.txt',\n",
       " 'Right_Hip_Angle.txt',\n",
       " 'Right_Hip_DCLink.txt',\n",
       " 'Right_Hip_Resistive.txt',\n",
       " 'Right_Hip_Torque.txt',\n",
       " 'Right_Hip_Torque_Real.txt',\n",
       " 'Right_Hip_Torque_Ref.txt',\n",
       " 'Right_Index.txt',\n",
       " 'Right_KneeAngle.txt',\n",
       " 'Right_Knee_Active.txt',\n",
       " 'Right_Knee_Resistive.txt',\n",
       " 'Right_Knee_Torque.txt',\n",
       " 'Right_Knee_Torque_Real.txt',\n",
       " 'Right_Knee_Torque_Ref.txt']"
      ]
     },
     "execution_count": 7,
     "metadata": {},
     "output_type": "execute_result"
    }
   ],
   "source": [
    "text_name"
   ]
  },
  {
   "cell_type": "code",
   "execution_count": null,
   "metadata": {
    "collapsed": true
   },
   "outputs": [],
   "source": []
  }
 ],
 "metadata": {
  "kernelspec": {
   "display_name": "Python [default]",
   "language": "python",
   "name": "python3"
  },
  "language_info": {
   "codemirror_mode": {
    "name": "ipython",
    "version": 3
   },
   "file_extension": ".py",
   "mimetype": "text/x-python",
   "name": "python",
   "nbconvert_exporter": "python",
   "pygments_lexer": "ipython3",
   "version": "3.6.3"
  }
 },
 "nbformat": 4,
 "nbformat_minor": 2
}
